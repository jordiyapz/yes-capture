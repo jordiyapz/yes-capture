{
 "cells": [
  {
   "cell_type": "code",
   "execution_count": 1,
   "metadata": {},
   "outputs": [],
   "source": [
    "import tensorflow as tf\n",
    "import cv2\n",
    "import numpy as np\n",
    "\n",
    "import threading\n",
    "from time import time\n",
    "\n",
    "from pathlib import Path\n",
    "from dotenv import dotenv_values\n",
    "\n",
    "from yesc.utils import open_video, mp_hands"
   ]
  },
  {
   "cell_type": "code",
   "execution_count": 2,
   "metadata": {},
   "outputs": [],
   "source": [
    "config = dotenv_values('.config')\n",
    "model_path = Path(config['MODEL_PATH'])\n",
    "data_path = Path(config['DATA_PATH'])\n",
    "output_path = data_path/'out'"
   ]
  },
  {
   "cell_type": "code",
   "execution_count": 3,
   "metadata": {},
   "outputs": [],
   "source": [
    "model = tf.keras.models.load_model(str(model_path/'landmark-classifier_v2'))"
   ]
  },
  {
   "cell_type": "code",
   "execution_count": 4,
   "metadata": {},
   "outputs": [],
   "source": [
    "def parse_landmark(hand_landmark):\n",
    "    landmark = tuple((lm.x, lm.y, lm.z) for lm in hand_landmark.landmark)\n",
    "    return np.array(landmark)"
   ]
  },
  {
   "cell_type": "code",
   "execution_count": 5,
   "metadata": {},
   "outputs": [],
   "source": [
    "import enum\n",
    "class CAMERA(enum.Enum):\n",
    "    DETECT = 0\n",
    "    COUNTDOWN = 1\n",
    "    CAPTURE = 2"
   ]
  },
  {
   "cell_type": "code",
   "execution_count": 6,
   "metadata": {},
   "outputs": [],
   "source": [
    "WIN_NAME: str = \"Camera\"\n",
    "THRES: float = .7\n",
    "RECORD_VIDEO: bool = False\n",
    "\n",
    "countdown = 3\n",
    "\n",
    "# ============================= THE SYSTEM ===========================\n",
    "camera_state = CAMERA.DETECT\n",
    "timer = None\n",
    "\n",
    "video_writer = None\n",
    "if RECORD_VIDEO:\n",
    "    video_writer = cv2.VideoWriter(\n",
    "        str(output_path/'the_app.avi'), cv2.VideoWriter_fourcc('M', 'J', 'P', 'G'), 15, (640, 480))\n",
    "\n",
    "\n",
    "def on_count():\n",
    "    global countdown\n",
    "    countdown -= 1\n",
    "    if countdown == 0:\n",
    "        global camera_state\n",
    "        camera_state = CAMERA.CAPTURE\n",
    "        countdown = 3\n",
    "\n",
    "\n",
    "def put_text(text, fontScale=12., **kwargs):\n",
    "    cv2.putText(frame, text, (240, 320),\n",
    "                cv2.FONT_HERSHEY_PLAIN, fontScale=fontScale, color=(0, 255, 0), thickness=4, **kwargs)\n",
    "\n",
    "\n",
    "with open_video(0) as video, mp_hands.Hands(static_image_mode=True,\n",
    "                                            max_num_hands=2,\n",
    "                                            min_detection_confidence=0.7) as hands:\n",
    "    etas = 0\n",
    "    for frame in video:\n",
    "        frame = cv2.flip(frame.copy(), 1)\n",
    "\n",
    "        if camera_state == CAMERA.DETECT:\n",
    "            image = cv2.cvtColor(frame, cv2.COLOR_BGR2RGB)\n",
    "            results = hands.process(image)\n",
    "            if results.multi_hand_landmarks:\n",
    "                for i, hand_landmarks in enumerate(results.multi_hand_landmarks):\n",
    "                    hand_landmark = hand_landmarks\n",
    "                    landmark = parse_landmark(hand_landmark)\n",
    "                    pred = model.predict(landmark.reshape((1, -1))).ravel()[0]\n",
    "                    if pred >= THRES:\n",
    "                        camera_state = CAMERA.COUNTDOWN\n",
    "                        timers = [threading.Timer(i+1, on_count)\n",
    "                                  for i in range(3)]\n",
    "                        for timer in timers:\n",
    "                            timer.start()\n",
    "                        break\n",
    "\n",
    "        elif camera_state == CAMERA.COUNTDOWN:\n",
    "            put_text(str(countdown))\n",
    "        elif camera_state == CAMERA.CAPTURE:\n",
    "            filename = str(output_path/f'capture_{int(time())}.jpg')\n",
    "            cv2.imwrite(filename, frame)\n",
    "\n",
    "            # Demonstrate actual fileread to confirm that the picture was stored.\n",
    "            image = cv2.imread(filename)\n",
    "            cv2.imshow('Result', image)\n",
    "            camera_state = CAMERA.DETECT\n",
    "\n",
    "        cv2.imshow(WIN_NAME, frame)\n",
    "        if RECORD_VIDEO:\n",
    "            video_writer.write(frame)\n",
    "\n",
    "cv2.destroyAllWindows()\n",
    "if video_writer:\n",
    "    video_writer.release()\n"
   ]
  }
 ],
 "metadata": {
  "interpreter": {
   "hash": "27e3b66e00ed8e70671dc33aae01baf0fdc16c71fc75d8a8ab1d805ed2015527"
  },
  "kernelspec": {
   "display_name": "Python 3.9.6 64-bit ('env': venv)",
   "language": "python",
   "name": "python3"
  },
  "language_info": {
   "codemirror_mode": {
    "name": "ipython",
    "version": 3
   },
   "file_extension": ".py",
   "mimetype": "text/x-python",
   "name": "python",
   "nbconvert_exporter": "python",
   "pygments_lexer": "ipython3",
   "version": "3.9.6"
  },
  "orig_nbformat": 4
 },
 "nbformat": 4,
 "nbformat_minor": 2
}
