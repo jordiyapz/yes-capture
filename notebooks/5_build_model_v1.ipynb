{
  "cells": [
    {
      "cell_type": "code",
      "execution_count": 1,
      "metadata": {
        "id": "ZEn6NS6s8TVD"
      },
      "outputs": [],
      "source": [
        "import tensorflow as tf\n",
        "\n",
        "import pandas as pd\n",
        "import numpy as np\n",
        "from matplotlib import pyplot as plt"
      ]
    },
    {
      "cell_type": "code",
      "execution_count": null,
      "metadata": {},
      "outputs": [],
      "source": [
        "from dotenv import dotenv_values\n",
        "from pathlib import Path\n",
        "\n",
        "config = dotenv_values('.config')\n",
        "data_path = Path(config['DATA_PATH'])\n",
        "dataset_path = data_path/'processed/v1'\n",
        "model_path = Path(config['MODEL_PATH'])"
      ]
    },
    {
      "cell_type": "code",
      "execution_count": 2,
      "metadata": {},
      "outputs": [],
      "source": [
        "train_df = pd.read_csv(dataset_path/'landmark_train.csv')\n",
        "test_df = pd.read_csv(dataset_path/'landmark_test.csv')"
      ]
    },
    {
      "cell_type": "code",
      "execution_count": 5,
      "metadata": {
        "id": "MKZzHN1D99lT"
      },
      "outputs": [],
      "source": [
        "def get_landmark_features(df):\n",
        "  landmark_feature_names = df.iloc[:2, 2:-1].columns\n",
        "  landmark_features = df[landmark_feature_names]\n",
        "  return landmark_features"
      ]
    },
    {
      "cell_type": "code",
      "execution_count": 6,
      "metadata": {
        "id": "DURjx5At_l6T"
      },
      "outputs": [],
      "source": [
        "landmark_features = get_landmark_features(train_df) \n",
        "targets = train_df.IS_Y.values\n",
        "\n",
        "normalizer = tf.keras.layers.Normalization(axis=-1)\n",
        "normalizer.adapt(landmark_features)"
      ]
    },
    {
      "cell_type": "code",
      "execution_count": 7,
      "metadata": {},
      "outputs": [],
      "source": [
        "def f1_score(precision, recall):\n",
        "    return 2 * precision * recall / (precision + recall)"
      ]
    },
    {
      "cell_type": "code",
      "execution_count": 8,
      "metadata": {
        "id": "gXNF_5Wa-qP1"
      },
      "outputs": [],
      "source": [
        "from tensorflow.keras.metrics import Precision, Recall\n",
        "\n",
        "model = tf.keras.Sequential([\n",
        "  normalizer,\n",
        "  tf.keras.layers.Dense(10, activation='relu'),\n",
        "  tf.keras.layers.Dense(10, activation='relu'),\n",
        "  tf.keras.layers.Dense(1, activation='sigmoid')\n",
        "])\n",
        "\n",
        "model.compile(optimizer='adam',\n",
        "              loss=tf.keras.losses.BinaryCrossentropy(from_logits=False),\n",
        "              metrics=[Precision(), Recall()])"
      ]
    },
    {
      "cell_type": "code",
      "execution_count": 9,
      "metadata": {
        "colab": {
          "base_uri": "https://localhost:8080/"
        },
        "id": "18IbKti9_tI5",
        "outputId": "6b333244-4b5b-44e7-8784-1adcb2ea0c9a"
      },
      "outputs": [
        {
          "name": "stdout",
          "output_type": "stream",
          "text": [
            "Epoch 1/20\n",
            "137/137 [==============================] - 1s 3ms/step - loss: 0.4928 - precision: 0.0476 - recall: 0.0010 - val_loss: 0.3972 - val_precision: 0.0000e+00 - val_recall: 0.0000e+00\n",
            "Epoch 2/20\n",
            "137/137 [==============================] - 0s 1ms/step - loss: 0.3095 - precision: 0.9821 - recall: 0.0572 - val_loss: 0.2612 - val_precision: 0.9357 - val_recall: 0.5304\n",
            "Epoch 3/20\n",
            "137/137 [==============================] - 0s 1ms/step - loss: 0.1952 - precision: 0.9191 - recall: 0.7919 - val_loss: 0.1607 - val_precision: 0.8696 - val_recall: 0.8907\n",
            "Epoch 4/20\n",
            "137/137 [==============================] - 0s 1ms/step - loss: 0.1234 - precision: 0.9123 - recall: 0.9095 - val_loss: 0.1171 - val_precision: 0.9020 - val_recall: 0.8947\n",
            "Epoch 5/20\n",
            "137/137 [==============================] - 0s 1ms/step - loss: 0.0867 - precision: 0.9406 - recall: 0.9230 - val_loss: 0.0907 - val_precision: 0.8835 - val_recall: 0.9514\n",
            "Epoch 6/20\n",
            "137/137 [==============================] - 0s 1ms/step - loss: 0.0651 - precision: 0.9518 - recall: 0.9459 - val_loss: 0.0703 - val_precision: 0.9269 - val_recall: 0.9757\n",
            "Epoch 7/20\n",
            "137/137 [==============================] - 0s 1ms/step - loss: 0.0472 - precision: 0.9790 - recall: 0.9698 - val_loss: 0.0520 - val_precision: 0.9798 - val_recall: 0.9838\n",
            "Epoch 8/20\n",
            "137/137 [==============================] - 0s 1ms/step - loss: 0.0358 - precision: 0.9875 - recall: 0.9834 - val_loss: 0.0414 - val_precision: 0.9918 - val_recall: 0.9798\n",
            "Epoch 9/20\n",
            "137/137 [==============================] - 0s 2ms/step - loss: 0.0280 - precision: 0.9937 - recall: 0.9886 - val_loss: 0.0354 - val_precision: 0.9798 - val_recall: 0.9838\n",
            "Epoch 10/20\n",
            "137/137 [==============================] - 0s 1ms/step - loss: 0.0229 - precision: 0.9948 - recall: 0.9875 - val_loss: 0.0322 - val_precision: 0.9761 - val_recall: 0.9919\n",
            "Epoch 11/20\n",
            "137/137 [==============================] - 0s 1ms/step - loss: 0.0204 - precision: 0.9947 - recall: 0.9854 - val_loss: 0.0290 - val_precision: 0.9879 - val_recall: 0.9919\n",
            "Epoch 12/20\n",
            "137/137 [==============================] - 0s 1ms/step - loss: 0.0178 - precision: 0.9937 - recall: 0.9896 - val_loss: 0.0239 - val_precision: 0.9919 - val_recall: 0.9879\n",
            "Epoch 13/20\n",
            "137/137 [==============================] - 0s 1ms/step - loss: 0.0159 - precision: 0.9937 - recall: 0.9917 - val_loss: 0.0265 - val_precision: 0.9761 - val_recall: 0.9919\n",
            "Epoch 14/20\n",
            "137/137 [==============================] - 0s 1ms/step - loss: 0.0144 - precision: 0.9937 - recall: 0.9927 - val_loss: 0.0169 - val_precision: 0.9919 - val_recall: 0.9919\n",
            "Epoch 15/20\n",
            "137/137 [==============================] - 0s 1ms/step - loss: 0.0125 - precision: 0.9948 - recall: 0.9927 - val_loss: 0.0225 - val_precision: 0.9839 - val_recall: 0.9919\n",
            "Epoch 16/20\n",
            "137/137 [==============================] - 0s 1ms/step - loss: 0.0121 - precision: 0.9948 - recall: 0.9927 - val_loss: 0.0211 - val_precision: 0.9879 - val_recall: 0.9919\n",
            "Epoch 17/20\n",
            "137/137 [==============================] - 0s 1ms/step - loss: 0.0121 - precision: 0.9917 - recall: 0.9927 - val_loss: 0.0149 - val_precision: 0.9919 - val_recall: 0.9960\n",
            "Epoch 18/20\n",
            "137/137 [==============================] - 0s 1ms/step - loss: 0.0108 - precision: 0.9938 - recall: 0.9948 - val_loss: 0.0244 - val_precision: 0.9839 - val_recall: 0.9919\n",
            "Epoch 19/20\n",
            "137/137 [==============================] - 0s 1ms/step - loss: 0.0100 - precision: 0.9958 - recall: 0.9948 - val_loss: 0.0206 - val_precision: 0.9840 - val_recall: 0.9960\n",
            "Epoch 20/20\n",
            "137/137 [==============================] - 0s 1ms/step - loss: 0.0086 - precision: 0.9958 - recall: 0.9958 - val_loss: 0.0230 - val_precision: 0.9800 - val_recall: 0.9919\n"
          ]
        }
      ],
      "source": [
        "history = model.fit(landmark_features, targets, epochs=20, batch_size=32, validation_split=.2)"
      ]
    },
    {
      "cell_type": "code",
      "execution_count": 10,
      "metadata": {},
      "outputs": [
        {
          "name": "stderr",
          "output_type": "stream",
          "text": [
            "C:\\Users\\jordi\\AppData\\Local\\Temp/ipykernel_11656/3829437676.py:2: RuntimeWarning: invalid value encountered in true_divide\n",
            "  return 2 * precision * recall / (precision + recall)\n"
          ]
        },
        {
          "data": {
            "image/png": "[encoded data removed]",
            "text/plain": [
              "<Figure size 936x288 with 2 Axes>"
            ]
          },
          "metadata": {
            "needs_background": "light"
          },
          "output_type": "display_data"
        }
      ],
      "source": [
        "precision = np.array(history.history['precision'])\n",
        "recall = np.array(history.history['recall'])\n",
        "val_precision = np.array(history.history['val_precision'])\n",
        "val_recall = np.array(history.history['val_recall'])\n",
        "\n",
        "fig, (ax1, ax2) = plt.subplots(ncols=2, figsize=(13, 4))\n",
        "ax1.plot(precision)\n",
        "ax1.plot(recall)\n",
        "ax1.plot(f1_score(precision, recall))\n",
        "ax1.legend(['precision', 'recall', 'f1-score'])\n",
        "ax1.set_title(\"Training Scores\")\n",
        "\n",
        "ax2.plot(val_precision)\n",
        "ax2.plot(val_recall)\n",
        "ax2.plot(f1_score(val_precision, val_recall))\n",
        "ax2.legend(['precision', 'recall', 'f1-score'])\n",
        "ax2.set_title(\"Validation Scores\")\n",
        "\n",
        "plt.show()"
      ]
    },
    {
      "cell_type": "code",
      "execution_count": 11,
      "metadata": {
        "colab": {
          "base_uri": "https://localhost:8080/"
        },
        "id": "yn9A518uATIJ",
        "outputId": "03598eb8-15af-499b-943f-a7498193afc0"
      },
      "outputs": [
        {
          "name": "stdout",
          "output_type": "stream",
          "text": [
            "43/43 - 0s - loss: 0.0805 - precision: 0.9970 - recall: 0.9853 - 29ms/epoch - 674us/step\n"
          ]
        },
        {
          "data": {
            "text/plain": [
              "(0.08046633750200272,\n",
              " 0.997032642364502,\n",
              " 0.9853372573852539,\n",
              " 0.9911504502515155)"
            ]
          },
          "execution_count": 11,
          "metadata": {},
          "output_type": "execute_result"
        }
      ],
      "source": [
        "test_loss, test_precision, test_recall = model.evaluate(get_landmark_features(test_df), test_df.IS_Y.values, verbose=2)\n",
        "test_loss, test_precision, test_recall, f1_score(test_precision, test_recall)"
      ]
    },
    {
      "cell_type": "code",
      "execution_count": 12,
      "metadata": {
        "colab": {
          "base_uri": "https://localhost:8080/"
        },
        "id": "CgBddMozBZet",
        "outputId": "bf355fef-8169-49cd-bf93-5c58bae3a518"
      },
      "outputs": [
        {
          "name": "stdout",
          "output_type": "stream",
          "text": [
            "INFO:tensorflow:Assets written to: landmark-classifier\\assets\n"
          ]
        }
      ],
      "source": [
        "model.save(str(model_path/'landmark-classifier'))"
      ]
    }
  ],
  "metadata": {
    "colab": {
      "collapsed_sections": [],
      "name": "Landmark Classifier.ipynb",
      "provenance": []
    },
    "kernelspec": {
      "display_name": "Python 3",
      "name": "python3"
    },
    "language_info": {
      "codemirror_mode": {
        "name": "ipython",
        "version": 3
      },
      "file_extension": ".py",
      "mimetype": "text/x-python",
      "name": "python",
      "nbconvert_exporter": "python",
      "pygments_lexer": "ipython3",
      "version": "3.9.6"
    }
  },
  "nbformat": 4,
  "nbformat_minor": 0
}
