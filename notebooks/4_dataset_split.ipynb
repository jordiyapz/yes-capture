{
 "cells": [
  {
   "cell_type": "code",
   "execution_count": 1,
   "metadata": {},
   "outputs": [],
   "source": [
    "import pandas as pd"
   ]
  },
  {
   "cell_type": "code",
   "execution_count": 2,
   "metadata": {},
   "outputs": [],
   "source": [
    "from dotenv import dotenv_values\n",
    "from pathlib import Path\n",
    "\n",
    "config = dotenv_values('.config')\n",
    "data_path = Path(config['DATA_PATH'])\n",
    "dataset_path = data_path/'processed/v1'"
   ]
  },
  {
   "cell_type": "code",
   "execution_count": 3,
   "metadata": {},
   "outputs": [],
   "source": [
    "TEST_SPLIT = .2\n",
    "RANDOM_STATE = 47"
   ]
  },
  {
   "cell_type": "code",
   "execution_count": 4,
   "metadata": {},
   "outputs": [
    {
     "name": "stdout",
     "output_type": "stream",
     "text": [
      "Positive class: 27.71%\n"
     ]
    }
   ],
   "source": [
    "landmark_ds = pd.read_csv(dataset_path/'Landmark Dataset.csv')\n",
    "print(f'Positive class: {landmark_ds.IS_Y.sum() / len(landmark_ds.index) * 100:.2f}%')"
   ]
  },
  {
   "cell_type": "code",
   "execution_count": 5,
   "metadata": {},
   "outputs": [
    {
     "data": {
      "text/plain": [
       "(5457, 1364, 6821)"
      ]
     },
     "execution_count": 5,
     "metadata": {},
     "output_type": "execute_result"
    }
   ],
   "source": [
    "num_of_rows = len(landmark_ds.index)\n",
    "\n",
    "num_of_test = round(num_of_rows * TEST_SPLIT)\n",
    "num_of_test = num_of_test - num_of_test % 2  # always even\n",
    "\n",
    "num_of_train = num_of_rows - num_of_test\n",
    "\n",
    "# output\n",
    "num_of_train, num_of_test, num_of_rows"
   ]
  },
  {
   "cell_type": "code",
   "execution_count": 6,
   "metadata": {},
   "outputs": [
    {
     "name": "stdout",
     "output_type": "stream",
     "text": [
      "Int64Index([   5,   15,   26,   44,   52,   53,   66,   75,   84,   90,\n",
      "            ...\n",
      "            6719, 6725, 6730, 6756, 6764, 6777, 6793, 6796, 6804, 6813],\n",
      "           dtype='int64', length=682)\n"
     ]
    }
   ],
   "source": [
    "# Shuffle\n",
    "landmark_ds = landmark_ds.sample(frac=1., random_state=RANDOM_STATE).reset_index(drop=True)\n",
    "\n",
    "test_pos = landmark_ds[landmark_ds.IS_Y].sample(num_of_test // 2, random_state=RANDOM_STATE)\n",
    "test_neg = landmark_ds[~landmark_ds.IS_Y].sample(num_of_test // 2, random_state=RANDOM_STATE)\n",
    "print(test_pos.index.sort_values())\n",
    "\n",
    "train_pos = landmark_ds[~landmark_ds.index.isin(test_pos.index) & landmark_ds.IS_Y]\n",
    "train_neg = landmark_ds[~landmark_ds.index.isin(test_neg.index) & ~landmark_ds.IS_Y]"
   ]
  },
  {
   "cell_type": "code",
   "execution_count": 7,
   "metadata": {},
   "outputs": [],
   "source": [
    "assert not train_pos.index.isin(test_pos.index).any()\n",
    "assert not train_neg.index.isin(test_neg.index).any()\n",
    "assert len(train_pos.index) + len(train_neg.index) + len(test_pos) + len(test_neg) == num_of_rows"
   ]
  },
  {
   "cell_type": "code",
   "execution_count": 8,
   "metadata": {},
   "outputs": [
    {
     "name": "stdout",
     "output_type": "stream",
     "text": [
      "Positive train: 22.14%\n",
      "Positive test: 50.00%\n"
     ]
    }
   ],
   "source": [
    "train_df = pd.concat((train_pos, train_neg)).sample(frac=1., random_state=RANDOM_STATE).reset_index(drop=True)\n",
    "test_df = pd.concat((test_pos, test_neg)).sample(frac=1., random_state=RANDOM_STATE).reset_index(drop=True)\n",
    "\n",
    "print(f'Positive train: {train_df.IS_Y.sum() / len(train_df.index) * 100:.2f}%')\n",
    "print(f'Positive test: {test_df.IS_Y.sum() / len(test_df.index) * 100:.2f}%')"
   ]
  },
  {
   "cell_type": "code",
   "execution_count": 9,
   "metadata": {},
   "outputs": [],
   "source": [
    "assert len(train_df.index) == num_of_train\n",
    "assert len(test_df.index) == num_of_test"
   ]
  },
  {
   "cell_type": "code",
   "execution_count": 10,
   "metadata": {},
   "outputs": [],
   "source": [
    "train_df.to_csv(dataset_path/'landmark_train.csv', index=None)\n",
    "test_df.to_csv(dataset_path/'landmark_test.csv', index=None)"
   ]
  }
 ],
 "metadata": {
  "interpreter": {
   "hash": "27e3b66e00ed8e70671dc33aae01baf0fdc16c71fc75d8a8ab1d805ed2015527"
  },
  "kernelspec": {
   "display_name": "Python 3.9.6 64-bit ('env': venv)",
   "language": "python",
   "name": "python3"
  },
  "language_info": {
   "codemirror_mode": {
    "name": "ipython",
    "version": 3
   },
   "file_extension": ".py",
   "mimetype": "text/x-python",
   "name": "python",
   "nbconvert_exporter": "python",
   "pygments_lexer": "ipython3",
   "version": "3.9.6"
  },
  "orig_nbformat": 4
 },
 "nbformat": 4,
 "nbformat_minor": 2
}
