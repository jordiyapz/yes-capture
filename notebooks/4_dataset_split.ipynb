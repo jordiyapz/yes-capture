{
 "cells": [
  {
   "cell_type": "code",
   "execution_count": 1,
   "metadata": {},
   "outputs": [],
   "source": [
    "import pandas as pd"
   ]
  },
  {
   "cell_type": "code",
   "execution_count": 30,
   "metadata": {},
   "outputs": [],
   "source": [
    "TEST_SPLIT = .2\n",
    "RANDOM_STATE = 47"
   ]
  },
  {
   "cell_type": "code",
   "execution_count": 65,
   "metadata": {},
   "outputs": [
    {
     "name": "stdout",
     "output_type": "stream",
     "text": [
      "Positive class: 27.71%\n"
     ]
    }
   ],
   "source": [
    "landmark_ds = pd.read_csv('Landmark Dataset.csv')\n",
    "print(f'Positive class: {landmark_ds.IS_Y.sum() / len(landmark_ds.index) * 100:.2f}%')"
   ]
  },
  {
   "cell_type": "code",
   "execution_count": 66,
   "metadata": {},
   "outputs": [
    {
     "data": {
      "text/plain": [
       "(5457, 1364, 6821)"
      ]
     },
     "execution_count": 66,
     "metadata": {},
     "output_type": "execute_result"
    }
   ],
   "source": [
    "num_of_rows = len(landmark_ds.index)\n",
    "\n",
    "num_of_test = round(num_of_rows * TEST_SPLIT)\n",
    "num_of_test = num_of_test - num_of_test % 2  # always even\n",
    "\n",
    "num_of_train = num_of_rows - num_of_test\n",
    "\n",
    "# output\n",
    "num_of_train, num_of_test, num_of_rows"
   ]
  },
  {
   "cell_type": "code",
   "execution_count": 67,
   "metadata": {},
   "outputs": [
    {
     "name": "stdout",
     "output_type": "stream",
     "text": [
      "Int64Index([   5,   15,   26,   44,   52,   53,   66,   75,   84,   90,\n",
      "            ...\n",
      "            6719, 6725, 6730, 6756, 6764, 6777, 6793, 6796, 6804, 6813],\n",
      "           dtype='int64', length=682)\n"
     ]
    }
   ],
   "source": [
    "# Shuffle\n",
    "landmark_ds = landmark_ds.sample(frac=1., random_state=RANDOM_STATE).reset_index(drop=True)\n",
    "\n",
    "test_pos = landmark_ds[landmark_ds.IS_Y].sample(num_of_test // 2, random_state=RANDOM_STATE)\n",
    "test_neg = landmark_ds[~landmark_ds.IS_Y].sample(num_of_test // 2, random_state=RANDOM_STATE)\n",
    "print(test_pos.index.sort_values())\n",
    "\n",
    "train_pos = landmark_ds[~landmark_ds.index.isin(test_pos.index) & landmark_ds.IS_Y]\n",
    "train_neg = landmark_ds[~landmark_ds.index.isin(test_neg.index) & ~landmark_ds.IS_Y]"
   ]
  },
  {
   "cell_type": "code",
   "execution_count": 68,
   "metadata": {},
   "outputs": [],
   "source": [
    "assert not train_pos.index.isin(test_pos.index).any()\n",
    "assert not train_neg.index.isin(test_neg.index).any()\n",
    "assert len(train_pos.index) + len(train_neg.index) + len(test_pos) + len(test_neg) == num_of_rows"
   ]
  },
  {
   "cell_type": "code",
   "execution_count": 74,
   "metadata": {},
   "outputs": [
    {
     "name": "stdout",
     "output_type": "stream",
     "text": [
      "Positive train: 22.14%\n",
      "Positive test: 50.00%\n"
     ]
    }
   ],
   "source": [
    "train_df = pd.concat((train_pos, train_neg)).sample(frac=1., random_state=RANDOM_STATE).reset_index(drop=True)\n",
    "test_df = pd.concat((test_pos, test_neg)).sample(frac=1., random_state=RANDOM_STATE).reset_index(drop=True)\n",
    "\n",
    "print(f'Positive train: {train_df.IS_Y.sum() / len(train_df.index) * 100:.2f}%')\n",
    "print(f'Positive test: {test_df.IS_Y.sum() / len(test_df.index) * 100:.2f}%')"
   ]
  },
  {
   "cell_type": "code",
   "execution_count": 75,
   "metadata": {},
   "outputs": [],
   "source": [
    "assert len(train_df.index) == num_of_train\n",
    "assert len(test_df.index) == num_of_test"
   ]
  },
  {
   "cell_type": "code",
   "execution_count": 76,
   "metadata": {},
   "outputs": [],
   "source": [
    "train_df.to_csv('landmark_train.csv', index=None)\n",
    "test_df.to_csv('landmark_test.csv', index=None)"
   ]
  },
  {
   "cell_type": "code",
   "execution_count": 2,
   "metadata": {},
   "outputs": [],
   "source": [
    "# landmark_ds = pd.read_csv('Landmark Dataset.csv')\n",
    "# landmark_ds = landmark_ds.sample(frac=1, random_state=47)\n",
    "\n",
    "# ds_groupped = landmark_ds[landmark_ds.IS_Y], landmark_ds[~landmark_ds.IS_Y]\n",
    "\n",
    "# train_group = []\n",
    "# val_group = []\n",
    "# test_group = []\n",
    "\n",
    "# for ds in ds_groupped:\n",
    "#     ds = ds.reset_index(drop=True)\n",
    "#     ds_len = len(ds.index)\n",
    "#     train_start = round(.6*ds_len)\n",
    "#     val_start = train_start + round(.2*ds_len)\n",
    "\n",
    "#     train_ds = ds.loc[:train_start]\n",
    "#     val_ds = ds.loc[train_start+1:val_start]\n",
    "#     test_ds = ds.loc[val_start+1:]\n",
    "    \n",
    "#     train_group.append(train_ds)\n",
    "#     val_group.append(val_ds)\n",
    "#     test_group.append(test_ds)\n",
    "#     assert (len(train_ds.index) + len(val_ds.index) + len(test_ds.index)) == ds_len, 'Length not equal'\n"
   ]
  },
  {
   "cell_type": "code",
   "execution_count": 3,
   "metadata": {},
   "outputs": [],
   "source": [
    "# train_ds = pd.concat(train_group).reset_index(drop=True)\n",
    "# val_ds = pd.concat(val_group).reset_index(drop=True)\n",
    "# test_ds = pd.concat(test_group).reset_index(drop=True)"
   ]
  },
  {
   "cell_type": "code",
   "execution_count": 4,
   "metadata": {},
   "outputs": [],
   "source": [
    "# train_ds.to_csv('landmark_train.csv', index=None)\n",
    "# val_ds.to_csv('landmark_val.csv', index=None)\n",
    "# test_ds.to_csv('landmark_test.csv', index=None)"
   ]
  }
 ],
 "metadata": {
  "interpreter": {
   "hash": "27e3b66e00ed8e70671dc33aae01baf0fdc16c71fc75d8a8ab1d805ed2015527"
  },
  "kernelspec": {
   "display_name": "Python 3.9.6 64-bit ('env': venv)",
   "language": "python",
   "name": "python3"
  },
  "language_info": {
   "codemirror_mode": {
    "name": "ipython",
    "version": 3
   },
   "file_extension": ".py",
   "mimetype": "text/x-python",
   "name": "python",
   "nbconvert_exporter": "python",
   "pygments_lexer": "ipython3",
   "version": "3.9.6"
  },
  "orig_nbformat": 4
 },
 "nbformat": 4,
 "nbformat_minor": 2
}
