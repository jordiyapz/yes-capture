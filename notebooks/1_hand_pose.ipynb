{
 "cells": [
  {
   "cell_type": "code",
   "execution_count": 1,
   "metadata": {},
   "outputs": [],
   "source": [
    "import numpy as np\n",
    "import mediapipe as mp\n",
    "import cv2\n",
    "from matplotlib import pyplot as plt\n",
    "# from IPython.display import cv2_\n"
   ]
  },
  {
   "cell_type": "code",
   "execution_count": 2,
   "metadata": {},
   "outputs": [],
   "source": [
    "import mediapipe as mp\n",
    "mp_hands = mp.solutions.hands\n",
    "mp_drawing = mp.solutions.drawing_utils\n",
    "mp_drawing_styles = mp.solutions.drawing_styles"
   ]
  },
  {
   "cell_type": "code",
   "execution_count": 4,
   "metadata": {},
   "outputs": [],
   "source": [
    "video_capture = cv2.VideoCapture(0)\n",
    "video_writter = cv2.VideoWriter('hand_gesture_jepret.avi', cv2.VideoWriter_fourcc('M','J','P','G'), 15, (640, 480))\n",
    "SAVE_VIDEO = False\n",
    "# i = 0\n",
    "with mp_hands.Hands(static_image_mode=False, \n",
    "                    max_num_hands=2,\n",
    "                    min_detection_confidence=0.7) as hands:\n",
    "    while video_capture.isOpened() and video_writter.isOpened():\n",
    "        try:\n",
    "            success, frame = video_capture.read()\n",
    "            frame_height, frame_width, _ = frame.shape\n",
    "            # print(frame_width, frame_height)\n",
    "            if success:\n",
    "                results = hands.process(cv2.flip(cv2.cvtColor(frame, cv2.COLOR_BGR2RGB), 1))\n",
    "                annotated_image = cv2.flip(frame.copy(), 1)\n",
    "                try:\n",
    "                    # if not results.multi_hand_world_landmarks:\n",
    "                    #     continue\n",
    "                    # for hand_world_landmarks in results.multi_hand_world_landmarks:\n",
    "                    #     mp_drawing.plot_landmarks(\n",
    "                    #         hand_world_landmarks, mp_hands.HAND_CONNECTIONS, azimuth=5)\n",
    "\n",
    "                    #     plt.savefig(f'plots/lm_{i}.png')\n",
    "                    #     i += 1\n",
    "                    tips = []\n",
    "                    for hand_landmarks in results.multi_hand_landmarks:\n",
    "                        finger_tip = hand_landmarks.landmark[mp_hands.HandLandmark.INDEX_FINGER_TIP]\n",
    "                        tip = (round(finger_tip.x*frame_width), round(finger_tip.y * frame_height))\n",
    "                        tips.append(tip)\n",
    "                        mp_drawing.draw_landmarks(\n",
    "                            annotated_image,\n",
    "                            hand_landmarks,\n",
    "                            mp_hands.HAND_CONNECTIONS,\n",
    "                            mp_drawing_styles.get_default_hand_landmarks_style(),\n",
    "                            mp_drawing_styles.get_default_hand_connections_style()) \n",
    "                    # if len(tips) == 2:\n",
    "                    #     annotated_image = cv2.line(annotated_image, \n",
    "                    #         tips[0], tips[1],\n",
    "                    #         (255, 0, 0), 2)\n",
    "                    # for tip in tips:\n",
    "                    #     annotated_image = cv2.circle(annotated_image, tip, 10, (255, 0, 0), 2)\n",
    "                except TypeError:\n",
    "                    pass\n",
    "                cv2.imshow('Frame', annotated_image)\n",
    "                if SAVE_VIDEO:\n",
    "                    video_writter.write(annotated_image)\n",
    "            else:\n",
    "                cv2.imshow('Frame', frame)\n",
    "                if SAVE_VIDEO:\n",
    "                    video_writter.write(frame)\n",
    "            if cv2.waitKey(1) & 0xFF == ord('q'):\n",
    "                break\n",
    "        except KeyboardInterrupt:\n",
    "            break\n",
    "        except Exception as e:\n",
    "            print(e)\n",
    "            break\n",
    "video_capture.release()\n",
    "video_writter.release()\n",
    "cv2.destroyAllWindows()"
   ]
  },
  {
   "cell_type": "code",
   "execution_count": null,
   "metadata": {},
   "outputs": [],
   "source": []
  }
 ],
 "metadata": {
  "interpreter": {
   "hash": "27e3b66e00ed8e70671dc33aae01baf0fdc16c71fc75d8a8ab1d805ed2015527"
  },
  "kernelspec": {
   "display_name": "Python 3.9.6 64-bit ('env': venv)",
   "language": "python",
   "name": "python3"
  },
  "language_info": {
   "codemirror_mode": {
    "name": "ipython",
    "version": 3
   },
   "file_extension": ".py",
   "mimetype": "text/x-python",
   "name": "python",
   "nbconvert_exporter": "python",
   "pygments_lexer": "ipython3",
   "version": "3.9.6"
  },
  "orig_nbformat": 4
 },
 "nbformat": 4,
 "nbformat_minor": 2
}
