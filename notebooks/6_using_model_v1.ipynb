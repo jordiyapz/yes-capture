{
 "cells": [
  {
   "cell_type": "code",
   "execution_count": null,
   "metadata": {},
   "outputs": [],
   "source": [
    "import tensorflow as tf\n",
    "import pandas as pd\n",
    "import mediapipe as mp\n",
    "import cv2\n",
    "import numpy as np\n",
    "from yesc.utils.video import open_video"
   ]
  },
  {
   "cell_type": "code",
   "execution_count": null,
   "metadata": {},
   "outputs": [],
   "source": [
    "from dotenv import dotenv_values\n",
    "from pathlib import Path\n",
    "\n",
    "config = dotenv_values('.config')\n",
    "data_path = Path(config['DATA_PATH'])\n",
    "dataset_path = data_path/'processed/v1'\n",
    "model_path = Path(config['MODEL_PATH'])"
   ]
  },
  {
   "cell_type": "code",
   "execution_count": null,
   "metadata": {},
   "outputs": [],
   "source": [
    "model = tf.keras.models.load_model(model_path/'landmark-classifier_v1')"
   ]
  },
  {
   "cell_type": "code",
   "execution_count": null,
   "metadata": {},
   "outputs": [],
   "source": [
    "mp_drawing = mp.solutions.drawing_utils\n",
    "mp_drawing_styles = mp.solutions.drawing_styles\n",
    "mp_hands = mp.solutions.hands"
   ]
  },
  {
   "cell_type": "code",
   "execution_count": null,
   "metadata": {},
   "outputs": [],
   "source": [
    "def parse_landmark(hand_landmark):\n",
    "    landmark = tuple((lm.x, lm.y, lm.z) for lm in hand_landmark.landmark)\n",
    "    return np.array(landmark)"
   ]
  },
  {
   "cell_type": "code",
   "execution_count": null,
   "metadata": {},
   "outputs": [],
   "source": [
    "WIN_NAME = 'Camera'\n",
    "hand_landmark = None\n",
    "\n",
    "THRES = .7\n",
    "\n",
    "with open_video(0) as video, mp_hands.Hands(static_image_mode=True,\n",
    "                                            max_num_hands=2,\n",
    "                                            min_detection_confidence=0.7) as hands:\n",
    "    for frame in video:\n",
    "        frame = cv2.flip(frame.copy(), 1)\n",
    "        image = cv2.cvtColor(frame, cv2.COLOR_BGR2RGB)\n",
    "        results = hands.process(image)\n",
    "        if not results.multi_hand_landmarks:\n",
    "            cv2.imshow(WIN_NAME, frame)\n",
    "            continue\n",
    "        annotated_image = frame\n",
    "\n",
    "        predictions = []\n",
    "        for i, hand_landmarks in enumerate(results.multi_hand_landmarks):\n",
    "            hand_landmark = hand_landmarks\n",
    "            landmark = parse_landmark(hand_landmark)\n",
    "            pred = model.predict(landmark.reshape((1, -1))).ravel()[0]\n",
    "\n",
    "            mp_drawing.draw_landmarks(\n",
    "                annotated_image,\n",
    "                hand_landmarks,\n",
    "                mp_hands.HAND_CONNECTIONS,\n",
    "                mp_drawing_styles.get_default_hand_landmarks_style(),\n",
    "                mp_drawing_styles.get_default_hand_connections_style())\n",
    "\n",
    "            is_pos = pred > THRES\n",
    "\n",
    "            x, y = 20, frame.shape[0] - 20 - 30 * i\n",
    "            color = (0,255,0) if is_pos else (0,0,255)\n",
    "            text = \"Yeay\" if is_pos else \"Nay\"\n",
    "            text = f'{text} conf: {pred*100:.2f}%'\n",
    "            cv2.putText(annotated_image, text,\n",
    "                        (x, y),\n",
    "                        fontFace=cv2.FONT_HERSHEY_SIMPLEX,\n",
    "                        fontScale=.8,\n",
    "                        color=color,\n",
    "                        thickness=2)\n",
    "\n",
    "        cv2.imshow(WIN_NAME, annotated_image)\n",
    "\n",
    "cv2.destroyAllWindows()\n"
   ]
  }
 ],
 "metadata": {
  "interpreter": {
   "hash": "27e3b66e00ed8e70671dc33aae01baf0fdc16c71fc75d8a8ab1d805ed2015527"
  },
  "kernelspec": {
   "display_name": "Python 3.9.6 64-bit ('env': venv)",
   "language": "python",
   "name": "python3"
  },
  "language_info": {
   "codemirror_mode": {
    "name": "ipython",
    "version": 3
   },
   "file_extension": ".py",
   "mimetype": "text/x-python",
   "name": "python",
   "nbconvert_exporter": "python",
   "pygments_lexer": "ipython3",
   "version": "3.9.6"
  },
  "orig_nbformat": 4
 },
 "nbformat": 4,
 "nbformat_minor": 2
}
