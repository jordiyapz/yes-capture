{
  "cells": [
    {
      "cell_type": "markdown",
      "metadata": {
        "id": "fHRCNut08RZL"
      },
      "source": [
        "## Using Tensorflow"
      ]
    },
    {
      "cell_type": "code",
      "execution_count": 1,
      "metadata": {
        "id": "ZEn6NS6s8TVD"
      },
      "outputs": [],
      "source": [
        "import tensorflow as tf\n",
        "\n",
        "import pandas as pd\n",
        "import numpy as np\n",
        "from matplotlib import pyplot as plt\n",
        "\n",
        "from pathlib import Path\n",
        "from dotenv import dotenv_values"
      ]
    },
    {
      "cell_type": "code",
      "execution_count": 2,
      "metadata": {},
      "outputs": [],
      "source": [
        "config = dotenv_values('.config')\n",
        "data_path = Path(config['DATA_PATH'])\n",
        "model_path = Path(config['MODEL_PATH'])\n",
        "dataset_path = data_path/'processed/v2'"
      ]
    },
    {
      "cell_type": "code",
      "execution_count": 3,
      "metadata": {},
      "outputs": [],
      "source": [
        "train_df = pd.read_csv(dataset_path/'landmark_ds_train.csv')\n",
        "test_df = pd.read_csv(dataset_path/'landmark_ds_test.csv')"
      ]
    },
    {
      "cell_type": "code",
      "execution_count": 4,
      "metadata": {
        "id": "MKZzHN1D99lT"
      },
      "outputs": [],
      "source": [
        "def get_landmark_features(df):\n",
        "  landmark_feature_names = df.columns[:-1]\n",
        "  landmark_features = df[landmark_feature_names]\n",
        "  # landmark_feature_tensors = tf.convert_to_tensor(landmark_features)\n",
        "  return landmark_features\n",
        "# get_landmark_features(train_df)"
      ]
    },
    {
      "cell_type": "code",
      "execution_count": 5,
      "metadata": {
        "id": "DURjx5At_l6T"
      },
      "outputs": [],
      "source": [
        "landmark_features = get_landmark_features(train_df) \n",
        "targets = train_df.IS_Y.values\n",
        "\n",
        "normalizer = tf.keras.layers.Normalization(axis=-1)\n",
        "normalizer.adapt(landmark_features)"
      ]
    },
    {
      "cell_type": "code",
      "execution_count": 6,
      "metadata": {},
      "outputs": [],
      "source": [
        "def f1_score(precision, recall):\n",
        "    return 2 * precision * recall / (precision + recall)"
      ]
    },
    {
      "cell_type": "code",
      "execution_count": 7,
      "metadata": {
        "id": "gXNF_5Wa-qP1"
      },
      "outputs": [],
      "source": [
        "from tensorflow.keras.metrics import Precision, Recall\n",
        "\n",
        "model = tf.keras.Sequential([\n",
        "  normalizer,\n",
        "  tf.keras.layers.Dense(64, activation='relu'),\n",
        "  # tf.keras.layers.Dropout(.1),\n",
        "  tf.keras.layers.Dense(64, activation='relu'),\n",
        "  tf.keras.layers.Dense(1, activation='sigmoid')\n",
        "])\n",
        "\n",
        "model.compile(optimizer=tf.keras.optimizers.Adam(learning_rate=1e-4),\n",
        "              loss=tf.keras.losses.BinaryCrossentropy(from_logits=False),\n",
        "              metrics=[Precision(), Recall()])"
      ]
    },
    {
      "cell_type": "code",
      "execution_count": 8,
      "metadata": {
        "colab": {
          "base_uri": "https://localhost:8080/"
        },
        "id": "18IbKti9_tI5",
        "outputId": "6b333244-4b5b-44e7-8784-1adcb2ea0c9a"
      },
      "outputs": [
        {
          "name": "stdout",
          "output_type": "stream",
          "text": [
            "Epoch 1/30\n",
            "2888/2888 [==============================] - 3s 917us/step - loss: 0.2351 - precision: 0.7307 - recall: 0.1767 - val_loss: 0.1696 - val_precision: 0.8136 - val_recall: 0.4620\n",
            "Epoch 2/30\n",
            "2888/2888 [==============================] - 3s 876us/step - loss: 0.1320 - precision: 0.8624 - recall: 0.6314 - val_loss: 0.1128 - val_precision: 0.8460 - val_recall: 0.7643\n",
            "Epoch 3/30\n",
            "2888/2888 [==============================] - 2s 846us/step - loss: 0.0934 - precision: 0.9031 - recall: 0.7896 - val_loss: 0.0870 - val_precision: 0.9018 - val_recall: 0.8164\n",
            "Epoch 4/30\n",
            "2888/2888 [==============================] - 2s 861us/step - loss: 0.0770 - precision: 0.9198 - recall: 0.8400 - val_loss: 0.0748 - val_precision: 0.9138 - val_recall: 0.8479\n",
            "Epoch 5/30\n",
            "2888/2888 [==============================] - 2s 850us/step - loss: 0.0676 - precision: 0.9290 - recall: 0.8716 - val_loss: 0.0673 - val_precision: 0.9209 - val_recall: 0.8702\n",
            "Epoch 6/30\n",
            "2888/2888 [==============================] - 2s 863us/step - loss: 0.0613 - precision: 0.9375 - recall: 0.8864 - val_loss: 0.0628 - val_precision: 0.9136 - val_recall: 0.8977\n",
            "Epoch 7/30\n",
            "2888/2888 [==============================] - 2s 865us/step - loss: 0.0569 - precision: 0.9441 - recall: 0.8978 - val_loss: 0.0574 - val_precision: 0.9423 - val_recall: 0.8933\n",
            "Epoch 8/30\n",
            "2888/2888 [==============================] - 2s 863us/step - loss: 0.0533 - precision: 0.9502 - recall: 0.9066 - val_loss: 0.0586 - val_precision: 0.9254 - val_recall: 0.8933\n",
            "Epoch 9/30\n",
            "2888/2888 [==============================] - 2s 862us/step - loss: 0.0502 - precision: 0.9535 - recall: 0.9131 - val_loss: 0.0528 - val_precision: 0.9476 - val_recall: 0.9013\n",
            "Epoch 10/30\n",
            "2888/2888 [==============================] - 3s 972us/step - loss: 0.0479 - precision: 0.9563 - recall: 0.9165 - val_loss: 0.0508 - val_precision: 0.9637 - val_recall: 0.8857\n",
            "Epoch 11/30\n",
            "2888/2888 [==============================] - 3s 976us/step - loss: 0.0456 - precision: 0.9596 - recall: 0.9201 - val_loss: 0.0487 - val_precision: 0.9609 - val_recall: 0.8955\n",
            "Epoch 12/30\n",
            "2888/2888 [==============================] - 3s 969us/step - loss: 0.0438 - precision: 0.9592 - recall: 0.9226 - val_loss: 0.0475 - val_precision: 0.9541 - val_recall: 0.9048\n",
            "Epoch 13/30\n",
            "2888/2888 [==============================] - 3s 938us/step - loss: 0.0422 - precision: 0.9610 - recall: 0.9240 - val_loss: 0.0471 - val_precision: 0.9613 - val_recall: 0.8942\n",
            "Epoch 14/30\n",
            "2888/2888 [==============================] - 3s 987us/step - loss: 0.0408 - precision: 0.9649 - recall: 0.9259 - val_loss: 0.0447 - val_precision: 0.9478 - val_recall: 0.9129\n",
            "Epoch 15/30\n",
            "2888/2888 [==============================] - 3s 950us/step - loss: 0.0394 - precision: 0.9661 - recall: 0.9264 - val_loss: 0.0439 - val_precision: 0.9574 - val_recall: 0.9093\n",
            "Epoch 16/30\n",
            "2888/2888 [==============================] - 3s 955us/step - loss: 0.0383 - precision: 0.9663 - recall: 0.9301 - val_loss: 0.0432 - val_precision: 0.9626 - val_recall: 0.9044\n",
            "Epoch 17/30\n",
            "2888/2888 [==============================] - 3s 936us/step - loss: 0.0373 - precision: 0.9699 - recall: 0.9298 - val_loss: 0.0417 - val_precision: 0.9522 - val_recall: 0.9293\n",
            "Epoch 18/30\n",
            "2888/2888 [==============================] - 3s 945us/step - loss: 0.0364 - precision: 0.9691 - recall: 0.9312 - val_loss: 0.0412 - val_precision: 0.9522 - val_recall: 0.9204\n",
            "Epoch 19/30\n",
            "2888/2888 [==============================] - 3s 933us/step - loss: 0.0353 - precision: 0.9691 - recall: 0.9334 - val_loss: 0.0401 - val_precision: 0.9591 - val_recall: 0.9169\n",
            "Epoch 20/30\n",
            "2888/2888 [==============================] - 3s 998us/step - loss: 0.0348 - precision: 0.9696 - recall: 0.9329 - val_loss: 0.0422 - val_precision: 0.9458 - val_recall: 0.9164\n",
            "Epoch 21/30\n",
            "2888/2888 [==============================] - 3s 947us/step - loss: 0.0341 - precision: 0.9702 - recall: 0.9335 - val_loss: 0.0396 - val_precision: 0.9558 - val_recall: 0.9231\n",
            "Epoch 22/30\n",
            "2888/2888 [==============================] - 3s 929us/step - loss: 0.0332 - precision: 0.9728 - recall: 0.9366 - val_loss: 0.0382 - val_precision: 0.9680 - val_recall: 0.9160\n",
            "Epoch 23/30\n",
            "2888/2888 [==============================] - 3s 943us/step - loss: 0.0325 - precision: 0.9728 - recall: 0.9378 - val_loss: 0.0377 - val_precision: 0.9654 - val_recall: 0.9186\n",
            "Epoch 24/30\n",
            "2888/2888 [==============================] - 3s 934us/step - loss: 0.0321 - precision: 0.9745 - recall: 0.9374 - val_loss: 0.0377 - val_precision: 0.9612 - val_recall: 0.9262\n",
            "Epoch 25/30\n",
            "2888/2888 [==============================] - 3s 934us/step - loss: 0.0316 - precision: 0.9726 - recall: 0.9376 - val_loss: 0.0369 - val_precision: 0.9562 - val_recall: 0.9311\n",
            "Epoch 26/30\n",
            "2888/2888 [==============================] - 3s 940us/step - loss: 0.0308 - precision: 0.9741 - recall: 0.9400 - val_loss: 0.0376 - val_precision: 0.9479 - val_recall: 0.9391\n",
            "Epoch 27/30\n",
            "2888/2888 [==============================] - 3s 951us/step - loss: 0.0305 - precision: 0.9734 - recall: 0.9394 - val_loss: 0.0363 - val_precision: 0.9722 - val_recall: 0.9191\n",
            "Epoch 28/30\n",
            "2888/2888 [==============================] - 3s 943us/step - loss: 0.0298 - precision: 0.9751 - recall: 0.9406 - val_loss: 0.0369 - val_precision: 0.9753 - val_recall: 0.9142\n",
            "Epoch 29/30\n",
            "2888/2888 [==============================] - 3s 994us/step - loss: 0.0295 - precision: 0.9738 - recall: 0.9401 - val_loss: 0.0368 - val_precision: 0.9588 - val_recall: 0.9315\n",
            "Epoch 30/30\n",
            "2888/2888 [==============================] - 3s 1ms/step - loss: 0.0290 - precision: 0.9776 - recall: 0.9413 - val_loss: 0.0351 - val_precision: 0.9598 - val_recall: 0.9337\n"
          ]
        }
      ],
      "source": [
        "history = model.fit(landmark_features, targets, epochs=30, batch_size=32, validation_split=.2)"
      ]
    },
    {
      "cell_type": "code",
      "execution_count": 9,
      "metadata": {},
      "outputs": [
        {
          "data": {
            "image/png": "[encoded data removed]",
            "text/plain": [
              "<Figure size 936x288 with 2 Axes>"
            ]
          },
          "metadata": {
            "needs_background": "light"
          },
          "output_type": "display_data"
        }
      ],
      "source": [
        "precision = np.array(history.history['precision'])\n",
        "recall = np.array(history.history['recall'])\n",
        "val_precision = np.array(history.history['val_precision'])\n",
        "val_recall = np.array(history.history['val_recall'])\n",
        "\n",
        "fig, (ax1, ax2) = plt.subplots(ncols=2, figsize=(13, 4))\n",
        "ax1.plot(precision)\n",
        "ax1.plot(recall)\n",
        "ax1.plot(f1_score(precision, recall))\n",
        "ax1.legend(['precision', 'recall', 'f1-score'])\n",
        "ax1.set_title(\"Training Scores\")\n",
        "\n",
        "ax2.plot(val_precision)\n",
        "ax2.plot(val_recall)\n",
        "ax2.plot(f1_score(val_precision, val_recall))\n",
        "ax2.legend(['precision', 'recall', 'f1-score'])\n",
        "ax2.set_title(\"Validation Scores\")\n",
        "\n",
        "plt.show()"
      ]
    },
    {
      "cell_type": "code",
      "execution_count": 13,
      "metadata": {
        "colab": {
          "base_uri": "https://localhost:8080/"
        },
        "id": "yn9A518uATIJ",
        "outputId": "03598eb8-15af-499b-943f-a7498193afc0"
      },
      "outputs": [
        {
          "name": "stdout",
          "output_type": "stream",
          "text": [
            "903/903 - 0s - loss: 0.0320 - precision: 0.9603 - recall: 0.9486 - 375ms/epoch - 415us/step\n"
          ]
        },
        {
          "data": {
            "text/plain": [
              "(0.032048195600509644, 0.96030592918396, 0.9485611319541931, 0.954397399121063)"
            ]
          },
          "execution_count": 13,
          "metadata": {},
          "output_type": "execute_result"
        }
      ],
      "source": [
        "test_loss, test_precision, test_recall = model.evaluate(get_landmark_features(test_df), test_df.IS_Y.values, verbose=2)\n",
        "test_loss, test_precision, test_recall, f1_score(test_precision, test_recall)"
      ]
    },
    {
      "cell_type": "code",
      "execution_count": 14,
      "metadata": {
        "colab": {
          "base_uri": "https://localhost:8080/"
        },
        "id": "CgBddMozBZet",
        "outputId": "bf355fef-8169-49cd-bf93-5c58bae3a518"
      },
      "outputs": [
        {
          "name": "stdout",
          "output_type": "stream",
          "text": [
            "INFO:tensorflow:Assets written to: landmark-classifier\\assets\n"
          ]
        }
      ],
      "source": [
        "model.save(str(model_path/'landmark-classifier_v2'))"
      ]
    }
  ],
  "metadata": {
    "colab": {
      "collapsed_sections": [],
      "name": "Landmark Classifier.ipynb",
      "provenance": []
    },
    "kernelspec": {
      "display_name": "Python 3",
      "name": "python3"
    },
    "language_info": {
      "codemirror_mode": {
        "name": "ipython",
        "version": 3
      },
      "file_extension": ".py",
      "mimetype": "text/x-python",
      "name": "python",
      "nbconvert_exporter": "python",
      "pygments_lexer": "ipython3",
      "version": "3.9.6"
    }
  },
  "nbformat": 4,
  "nbformat_minor": 0
}
