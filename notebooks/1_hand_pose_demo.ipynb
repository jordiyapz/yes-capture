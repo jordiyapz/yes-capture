{
 "cells": [
  {
   "cell_type": "code",
   "execution_count": 2,
   "metadata": {},
   "outputs": [],
   "source": [
    "import cv2\n",
    "from yesc.utils import mp_hands, mp_drawing, mp_drawing_styles, open_video"
   ]
  },
  {
   "cell_type": "code",
   "execution_count": 3,
   "metadata": {},
   "outputs": [],
   "source": [
    "with open_video(0) as video,\\\n",
    "    mp_hands.Hands(static_image_mode=False,\n",
    "                    max_num_hands=2,\n",
    "                    min_detection_confidence=0.7) as hands:\n",
    "    for frame in video:\n",
    "        # press 'q' to quit\n",
    "        frame_height, frame_width, _ = frame.shape\n",
    "        frame = cv2.flip(frame, 1)\n",
    "        results = hands.process(cv2.cvtColor(frame, cv2.COLOR_BGR2RGB))\n",
    "\n",
    "        if results.multi_hand_landmarks:\n",
    "            tips = []\n",
    "            annotated_image = frame.copy()\n",
    "            for hand_landmarks in results.multi_hand_landmarks:\n",
    "                finger_tip = hand_landmarks.landmark[mp_hands.HandLandmark.INDEX_FINGER_TIP]\n",
    "                tip = (round(finger_tip.x*frame_width),\n",
    "                        round(finger_tip.y * frame_height))\n",
    "                tips.append(tip)\n",
    "                mp_drawing.draw_landmarks(\n",
    "                    annotated_image,\n",
    "                    hand_landmarks,\n",
    "                    mp_hands.HAND_CONNECTIONS,\n",
    "                    mp_drawing_styles.get_default_hand_landmarks_style(),\n",
    "                    mp_drawing_styles.get_default_hand_connections_style())\n",
    "                frame = annotated_image\n",
    "\n",
    "        cv2.imshow('Frame', frame)\n",
    "\n",
    "cv2.destroyAllWindows()"
   ]
  }
 ],
 "metadata": {
  "interpreter": {
   "hash": "27e3b66e00ed8e70671dc33aae01baf0fdc16c71fc75d8a8ab1d805ed2015527"
  },
  "kernelspec": {
   "display_name": "Python 3.9.6 64-bit ('env': venv)",
   "language": "python",
   "name": "python3"
  },
  "language_info": {
   "codemirror_mode": {
    "name": "ipython",
    "version": 3
   },
   "file_extension": ".py",
   "mimetype": "text/x-python",
   "name": "python",
   "nbconvert_exporter": "python",
   "pygments_lexer": "ipython3",
   "version": "3.9.6"
  },
  "orig_nbformat": 4
 },
 "nbformat": 4,
 "nbformat_minor": 2
}
