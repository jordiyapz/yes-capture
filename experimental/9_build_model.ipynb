{
  "cells": [
    {
      "cell_type": "markdown",
      "metadata": {
        "id": "fHRCNut08RZL"
      },
      "source": [
        "## Using Tensorflow"
      ]
    },
    {
      "cell_type": "code",
      "execution_count": 3,
      "metadata": {
        "id": "ZEn6NS6s8TVD"
      },
      "outputs": [],
      "source": [
        "import tensorflow as tf\n",
        "\n",
        "import pandas as pd\n",
        "import numpy as np\n",
        "from matplotlib import pyplot as plt\n",
        "\n",
        "from pathlib import Path"
      ]
    },
    {
      "cell_type": "code",
      "execution_count": 4,
      "metadata": {},
      "outputs": [],
      "source": [
        "data_path = Path('../data')"
      ]
    },
    {
      "cell_type": "code",
      "execution_count": 6,
      "metadata": {},
      "outputs": [],
      "source": [
        "train_df = pd.read_csv(data_path/'landmark_ds_train.csv')\n",
        "test_df = pd.read_csv(data_path/'landmark_ds_test.csv')"
      ]
    },
    {
      "cell_type": "code",
      "execution_count": 8,
      "metadata": {
        "id": "MKZzHN1D99lT"
      },
      "outputs": [],
      "source": [
        "def get_landmark_features(df):\n",
        "  landmark_feature_names = df.columns[:-1]\n",
        "  landmark_features = df[landmark_feature_names]\n",
        "  # landmark_feature_tensors = tf.convert_to_tensor(landmark_features)\n",
        "  return landmark_features\n",
        "# get_landmark_features(train_df)"
      ]
    },
    {
      "cell_type": "code",
      "execution_count": 9,
      "metadata": {
        "id": "DURjx5At_l6T"
      },
      "outputs": [],
      "source": [
        "landmark_features = get_landmark_features(train_df) \n",
        "targets = train_df.IS_Y.values\n",
        "\n",
        "normalizer = tf.keras.layers.Normalization(axis=-1)\n",
        "normalizer.adapt(landmark_features)"
      ]
    },
    {
      "cell_type": "code",
      "execution_count": 10,
      "metadata": {},
      "outputs": [],
      "source": [
        "def f1_score(precision, recall):\n",
        "    return 2 * precision * recall / (precision + recall)"
      ]
    },
    {
      "cell_type": "code",
      "execution_count": 11,
      "metadata": {
        "id": "gXNF_5Wa-qP1"
      },
      "outputs": [],
      "source": [
        "from tensorflow.keras.metrics import Precision, Recall\n",
        "\n",
        "model = tf.keras.Sequential([\n",
        "  normalizer,\n",
        "  tf.keras.layers.Dense(10, activation='relu'),\n",
        "  tf.keras.layers.Dense(10, activation='relu'),\n",
        "  tf.keras.layers.Dense(1, activation='sigmoid')\n",
        "])\n",
        "\n",
        "model.compile(optimizer='adam',\n",
        "              loss=tf.keras.losses.BinaryCrossentropy(from_logits=False),\n",
        "              metrics=[Precision(), Recall()])"
      ]
    },
    {
      "cell_type": "code",
      "execution_count": 12,
      "metadata": {
        "colab": {
          "base_uri": "https://localhost:8080/"
        },
        "id": "18IbKti9_tI5",
        "outputId": "6b333244-4b5b-44e7-8784-1adcb2ea0c9a"
      },
      "outputs": [
        {
          "name": "stdout",
          "output_type": "stream",
          "text": [
            "Epoch 1/10\n",
            "2888/2888 [==============================] - 3s 845us/step - loss: 0.1864 - precision: 0.7242 - recall: 0.4702 - val_loss: 0.1047 - val_precision: 0.8769 - val_recall: 0.7510\n",
            "Epoch 2/10\n",
            "2888/2888 [==============================] - 2s 771us/step - loss: 0.0867 - precision: 0.8896 - recall: 0.8106 - val_loss: 0.0786 - val_precision: 0.9144 - val_recall: 0.8070\n",
            "Epoch 3/10\n",
            "2888/2888 [==============================] - 2s 771us/step - loss: 0.0696 - precision: 0.9057 - recall: 0.8575 - val_loss: 0.0682 - val_precision: 0.9157 - val_recall: 0.8404\n",
            "Epoch 4/10\n",
            "2888/2888 [==============================] - 2s 784us/step - loss: 0.0628 - precision: 0.9173 - recall: 0.8753 - val_loss: 0.0634 - val_precision: 0.9384 - val_recall: 0.8395\n",
            "Epoch 5/10\n",
            "2888/2888 [==============================] - 3s 888us/step - loss: 0.0581 - precision: 0.9252 - recall: 0.8868 - val_loss: 0.0624 - val_precision: 0.9195 - val_recall: 0.8688\n",
            "Epoch 6/10\n",
            "2888/2888 [==============================] - 2s 802us/step - loss: 0.0564 - precision: 0.9269 - recall: 0.8878 - val_loss: 0.0605 - val_precision: 0.8987 - val_recall: 0.8911\n",
            "Epoch 7/10\n",
            "2888/2888 [==============================] - 2s 738us/step - loss: 0.0541 - precision: 0.9326 - recall: 0.8914 - val_loss: 0.0665 - val_precision: 0.9605 - val_recall: 0.8110\n",
            "Epoch 8/10\n",
            "2888/2888 [==============================] - 2s 750us/step - loss: 0.0528 - precision: 0.9351 - recall: 0.8962 - val_loss: 0.0637 - val_precision: 0.8866 - val_recall: 0.9000\n",
            "Epoch 9/10\n",
            "2888/2888 [==============================] - 2s 734us/step - loss: 0.0519 - precision: 0.9377 - recall: 0.8979 - val_loss: 0.0537 - val_precision: 0.9418 - val_recall: 0.8857\n",
            "Epoch 10/10\n",
            "2888/2888 [==============================] - 2s 744us/step - loss: 0.0508 - precision: 0.9381 - recall: 0.9011 - val_loss: 0.0525 - val_precision: 0.9419 - val_recall: 0.8933\n"
          ]
        }
      ],
      "source": [
        "history = model.fit(landmark_features, targets, epochs=10, batch_size=32, validation_split=.2)"
      ]
    },
    {
      "cell_type": "code",
      "execution_count": 13,
      "metadata": {},
      "outputs": [
        {
          "data": {
            "image/png": "[encoded data removed]",
            "text/plain": [
              "<Figure size 936x288 with 2 Axes>"
            ]
          },
          "metadata": {
            "needs_background": "light"
          },
          "output_type": "display_data"
        }
      ],
      "source": [
        "precision = np.array(history.history['precision'])\n",
        "recall = np.array(history.history['recall'])\n",
        "val_precision = np.array(history.history['val_precision'])\n",
        "val_recall = np.array(history.history['val_recall'])\n",
        "\n",
        "fig, (ax1, ax2) = plt.subplots(ncols=2, figsize=(13, 4))\n",
        "ax1.plot(precision)\n",
        "ax1.plot(recall)\n",
        "ax1.plot(f1_score(precision, recall))\n",
        "ax1.legend(['precision', 'recall', 'f1-score'])\n",
        "ax1.set_title(\"Training Scores\")\n",
        "\n",
        "ax2.plot(val_precision)\n",
        "ax2.plot(val_recall)\n",
        "ax2.plot(f1_score(val_precision, val_recall))\n",
        "ax2.legend(['precision', 'recall', 'f1-score'])\n",
        "ax2.set_title(\"Validation Scores\")\n",
        "\n",
        "plt.show()"
      ]
    },
    {
      "cell_type": "code",
      "execution_count": 14,
      "metadata": {
        "colab": {
          "base_uri": "https://localhost:8080/"
        },
        "id": "yn9A518uATIJ",
        "outputId": "03598eb8-15af-499b-943f-a7498193afc0"
      },
      "outputs": [
        {
          "name": "stdout",
          "output_type": "stream",
          "text": [
            "903/903 - 0s - loss: 0.0457 - precision: 0.9353 - recall: 0.9151 - 349ms/epoch - 387us/step\n"
          ]
        },
        {
          "data": {
            "text/plain": [
              "(0.045723725110292435,\n",
              " 0.9352940917015076,\n",
              " 0.9151079058647156,\n",
              " 0.9250908924118546)"
            ]
          },
          "execution_count": 14,
          "metadata": {},
          "output_type": "execute_result"
        }
      ],
      "source": [
        "test_loss, test_precision, test_recall = model.evaluate(get_landmark_features(test_df), test_df.IS_Y.values, verbose=2)\n",
        "test_loss, test_precision, test_recall, f1_score(test_precision, test_recall)"
      ]
    },
    {
      "cell_type": "code",
      "execution_count": 15,
      "metadata": {
        "colab": {
          "base_uri": "https://localhost:8080/"
        },
        "id": "CgBddMozBZet",
        "outputId": "bf355fef-8169-49cd-bf93-5c58bae3a518"
      },
      "outputs": [
        {
          "name": "stdout",
          "output_type": "stream",
          "text": [
            "INFO:tensorflow:Assets written to: landmark-classifier\\assets\n"
          ]
        }
      ],
      "source": [
        "model.save('landmark-classifier')"
      ]
    },
    {
      "cell_type": "code",
      "execution_count": 13,
      "metadata": {
        "colab": {
          "base_uri": "https://localhost:8080/"
        },
        "id": "ELXW1bMwCm33",
        "outputId": "38c4dd86-9e94-4765-dc6b-1f595e2b5fcc"
      },
      "outputs": [],
      "source": [
        "# !zip -r landmark_classifier.zip landmark-classifier/"
      ]
    }
  ],
  "metadata": {
    "colab": {
      "collapsed_sections": [],
      "name": "Landmark Classifier.ipynb",
      "provenance": []
    },
    "kernelspec": {
      "display_name": "Python 3",
      "name": "python3"
    },
    "language_info": {
      "codemirror_mode": {
        "name": "ipython",
        "version": 3
      },
      "file_extension": ".py",
      "mimetype": "text/x-python",
      "name": "python",
      "nbconvert_exporter": "python",
      "pygments_lexer": "ipython3",
      "version": "3.9.6"
    }
  },
  "nbformat": 4,
  "nbformat_minor": 0
}
